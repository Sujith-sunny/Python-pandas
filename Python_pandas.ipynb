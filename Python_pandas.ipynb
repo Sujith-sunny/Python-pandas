{
  "nbformat": 4,
  "nbformat_minor": 0,
  "metadata": {
    "colab": {
      "name": "Python_pandas.ipynb",
      "provenance": [],
      "collapsed_sections": [],
      "mount_file_id": "1AB64aSQ39qRIk-OszOxE32aQ6k0jXHV3",
      "authorship_tag": "ABX9TyNBj6PzPZq6TFhn8n8d4GlP",
      "include_colab_link": true
    },
    "kernelspec": {
      "name": "python3",
      "display_name": "Python 3"
    },
    "language_info": {
      "name": "python"
    }
  },
  "cells": [
    {
      "cell_type": "markdown",
      "metadata": {
        "id": "view-in-github",
        "colab_type": "text"
      },
      "source": [
        "<a href=\"https://colab.research.google.com/github/Sujith-sunny/Python-pandas/blob/main/Python_pandas.ipynb\" target=\"_parent\"><img src=\"https://colab.research.google.com/assets/colab-badge.svg\" alt=\"Open In Colab\"/></a>"
      ]
    },
    {
      "cell_type": "code",
      "metadata": {
        "id": "jNOPLxsnUC6l",
        "colab": {
          "base_uri": "https://localhost:8080/"
        },
        "outputId": "5750a34c-0f19-4f73-e5be-3d0f0d22c06e"
      },
      "source": [
        "from google.colab import drive\n",
        "drive.mount('/content/drive/')  #connecting the drive with google colab"
      ],
      "execution_count": 1,
      "outputs": [
        {
          "output_type": "stream",
          "text": [
            "Drive already mounted at /content/drive/; to attempt to forcibly remount, call drive.mount(\"/content/drive/\", force_remount=True).\n"
          ],
          "name": "stdout"
        }
      ]
    },
    {
      "cell_type": "code",
      "metadata": {
        "id": "QAmJi9xtkrMM"
      },
      "source": [
        "import pandas as pd  #importing the pandas library\n",
        "\n",
        "df = pd.read_csv('/content/drive/MyDrive/Colab Notebooks/Python_pandas/pokemon_data.csv')     #read the data from an csv file."
      ],
      "execution_count": 3,
      "outputs": []
    },
    {
      "cell_type": "code",
      "metadata": {
        "colab": {
          "base_uri": "https://localhost:8080/"
        },
        "id": "ZAMNyvYMlhyQ",
        "outputId": "b2e59030-16f9-4fea-97b1-e77df5db5174"
      },
      "source": [
        "print(df.head())   #printing the data frame which has all the data from the csv file. \n",
        "                   #Head() function allows the user to print only the top section of the file. Head() takes the parameter of no of rows of the file."
      ],
      "execution_count": 4,
      "outputs": [
        {
          "output_type": "stream",
          "text": [
            "   #                   Name Type 1  ... Speed  Generation  Legendary\n",
            "0  1              Bulbasaur  Grass  ...    45           1      False\n",
            "1  2                Ivysaur  Grass  ...    60           1      False\n",
            "2  3               Venusaur  Grass  ...    80           1      False\n",
            "3  3  VenusaurMega Venusaur  Grass  ...    80           1      False\n",
            "4  4             Charmander   Fire  ...    65           1      False\n",
            "\n",
            "[5 rows x 12 columns]\n"
          ],
          "name": "stdout"
        }
      ]
    },
    {
      "cell_type": "code",
      "metadata": {
        "colab": {
          "base_uri": "https://localhost:8080/"
        },
        "id": "c6qPXRkPl1Eu",
        "outputId": "bdee1c6e-ca9e-4902-8bc4-0e9d6ef7608b"
      },
      "source": [
        "print(df.tail())   #tail() function allows the user to print the bottom lines of the file."
      ],
      "execution_count": 6,
      "outputs": [
        {
          "output_type": "stream",
          "text": [
            "       #                 Name   Type 1  ... Speed  Generation  Legendary\n",
            "795  719              Diancie     Rock  ...    50           6       True\n",
            "796  719  DiancieMega Diancie     Rock  ...   110           6       True\n",
            "797  720  HoopaHoopa Confined  Psychic  ...    70           6       True\n",
            "798  720   HoopaHoopa Unbound  Psychic  ...    80           6       True\n",
            "799  721            Volcanion     Fire  ...    70           6       True\n",
            "\n",
            "[5 rows x 12 columns]\n"
          ],
          "name": "stdout"
        }
      ]
    },
    {
      "cell_type": "code",
      "metadata": {
        "id": "qSmzkokfl5Z3"
      },
      "source": [
        "df_txt = pd.read_csv('/content/drive/MyDrive/Colab Notebooks/Python_pandas/pokemon_data.txt')   #We can read any txt file with data and print it. "
      ],
      "execution_count": 7,
      "outputs": []
    },
    {
      "cell_type": "code",
      "metadata": {
        "colab": {
          "base_uri": "https://localhost:8080/"
        },
        "id": "jj-K4EYMuNoa",
        "outputId": "e3011038-68b0-4355-9707-af8d5c3238c7"
      },
      "source": [
        "print(df_txt.head(5))"
      ],
      "execution_count": 8,
      "outputs": [
        {
          "output_type": "stream",
          "text": [
            "  #\\tName\\tType 1\\tType 2\\tHP\\tAttack\\tDefense\\tSp. Atk\\tSp. Def\\tSpeed\\tGeneration\\tLegendary\n",
            "0  1\\tBulbasaur\\tGrass\\tPoison\\t45\\t49\\t49\\t65\\t6...                                          \n",
            "1  2\\tIvysaur\\tGrass\\tPoison\\t60\\t62\\t63\\t80\\t80\\...                                          \n",
            "2  3\\tVenusaur\\tGrass\\tPoison\\t80\\t82\\t83\\t100\\t1...                                          \n",
            "3  3\\tVenusaurMega Venusaur\\tGrass\\tPoison\\t80\\t1...                                          \n",
            "4  4\\tCharmander\\tFire\\t\\t39\\t52\\t43\\t60\\t50\\t65\\...                                          \n"
          ],
          "name": "stdout"
        }
      ]
    },
    {
      "cell_type": "code",
      "metadata": {
        "id": "0SIfDPF8uTDl"
      },
      "source": [
        "#The word are divided using \"tab\", so remoing a tab space will make it align properly\n",
        "df_txt1 = pd.read_csv('/content/drive/MyDrive/Colab Notebooks/Python_pandas/pokemon_data.txt', delimiter='\\t')    #the delimeter helps to remove the spaces between the words."
      ],
      "execution_count": 10,
      "outputs": []
    },
    {
      "cell_type": "code",
      "metadata": {
        "colab": {
          "base_uri": "https://localhost:8080/"
        },
        "id": "ApmYzVuzvBLR",
        "outputId": "65127d6b-e39d-4282-94d9-3b3214562366"
      },
      "source": [
        "print(df_txt1.head(5))"
      ],
      "execution_count": 11,
      "outputs": [
        {
          "output_type": "stream",
          "text": [
            "   #                   Name Type 1  ... Speed  Generation  Legendary\n",
            "0  1              Bulbasaur  Grass  ...    45           1      False\n",
            "1  2                Ivysaur  Grass  ...    60           1      False\n",
            "2  3               Venusaur  Grass  ...    80           1      False\n",
            "3  3  VenusaurMega Venusaur  Grass  ...    80           1      False\n",
            "4  4             Charmander   Fire  ...    65           1      False\n",
            "\n",
            "[5 rows x 12 columns]\n"
          ],
          "name": "stdout"
        }
      ]
    },
    {
      "cell_type": "code",
      "metadata": {
        "colab": {
          "base_uri": "https://localhost:8080/"
        },
        "id": "F-xTQjazx9g4",
        "outputId": "f5ab432e-7ad8-45e6-b3b4-9da17bbf2f37"
      },
      "source": [
        "#Reading the headers.\n",
        "print(df.columns)"
      ],
      "execution_count": 12,
      "outputs": [
        {
          "output_type": "stream",
          "text": [
            "Index(['#', 'Name', 'Type 1', 'Type 2', 'HP', 'Attack', 'Defense', 'Sp. Atk',\n",
            "       'Sp. Def', 'Speed', 'Generation', 'Legendary'],\n",
            "      dtype='object')\n"
          ],
          "name": "stdout"
        }
      ]
    },
    {
      "cell_type": "code",
      "metadata": {
        "colab": {
          "base_uri": "https://localhost:8080/"
        },
        "id": "c9F1zkiz1Ax4",
        "outputId": "1cc1d92e-7bad-4a3d-ef6f-575f9c44442d"
      },
      "source": [
        "#print the names of columns in the form of a list\n",
        "df_col_list = df.columns\n",
        "print(list(df_col_list))"
      ],
      "execution_count": 18,
      "outputs": [
        {
          "output_type": "stream",
          "text": [
            "['#', 'Name', 'Type 1', 'Type 2', 'HP', 'Attack', 'Defense', 'Sp. Atk', 'Sp. Def', 'Speed', 'Generation', 'Legendary']\n"
          ],
          "name": "stdout"
        }
      ]
    },
    {
      "cell_type": "code",
      "metadata": {
        "colab": {
          "base_uri": "https://localhost:8080/"
        },
        "id": "Q_izUlKUyOiJ",
        "outputId": "c34f1662-b4ba-4dce-b6f4-de4800898f01"
      },
      "source": [
        "#reading each header\n",
        "print(df['Name'])"
      ],
      "execution_count": 13,
      "outputs": [
        {
          "output_type": "stream",
          "text": [
            "0                  Bulbasaur\n",
            "1                    Ivysaur\n",
            "2                   Venusaur\n",
            "3      VenusaurMega Venusaur\n",
            "4                 Charmander\n",
            "               ...          \n",
            "795                  Diancie\n",
            "796      DiancieMega Diancie\n",
            "797      HoopaHoopa Confined\n",
            "798       HoopaHoopa Unbound\n",
            "799                Volcanion\n",
            "Name: Name, Length: 800, dtype: object\n"
          ],
          "name": "stdout"
        }
      ]
    },
    {
      "cell_type": "code",
      "metadata": {
        "colab": {
          "base_uri": "https://localhost:8080/"
        },
        "id": "9jBdAcLbyXqg",
        "outputId": "6a06d530-bae7-41d5-bd8b-9cf741882795"
      },
      "source": [
        "#Specifying the number of headers to be printed\n",
        "print(df['Name'][0:10])"
      ],
      "execution_count": 14,
      "outputs": [
        {
          "output_type": "stream",
          "text": [
            "0                    Bulbasaur\n",
            "1                      Ivysaur\n",
            "2                     Venusaur\n",
            "3        VenusaurMega Venusaur\n",
            "4                   Charmander\n",
            "5                   Charmeleon\n",
            "6                    Charizard\n",
            "7    CharizardMega Charizard X\n",
            "8    CharizardMega Charizard Y\n",
            "9                     Squirtle\n",
            "Name: Name, dtype: object\n"
          ],
          "name": "stdout"
        }
      ]
    },
    {
      "cell_type": "code",
      "metadata": {
        "colab": {
          "base_uri": "https://localhost:8080/"
        },
        "id": "U-aq9SAGymTw",
        "outputId": "b3e6b0a5-534e-4f6d-d396-b9c169214a70"
      },
      "source": [
        "#we can get mutiple columns by adding a list of the column names\n",
        "print(df[['Name', 'Speed', 'Defense']].head(5))"
      ],
      "execution_count": 16,
      "outputs": [
        {
          "output_type": "stream",
          "text": [
            "                    Name  Speed  Defense\n",
            "0              Bulbasaur     45       49\n",
            "1                Ivysaur     60       63\n",
            "2               Venusaur     80       83\n",
            "3  VenusaurMega Venusaur     80      123\n",
            "4             Charmander     65       43\n"
          ],
          "name": "stdout"
        }
      ]
    },
    {
      "cell_type": "code",
      "metadata": {
        "colab": {
          "base_uri": "https://localhost:8080/"
        },
        "id": "sZ8skaiM0Qrq",
        "outputId": "72946edb-f04c-4cbc-da93-bcb2cdf220c0"
      },
      "source": [
        "#This will print 5 lines from both top and bottom\n",
        "print(df[['Name', 'Speed', 'Defense'][0:5]])"
      ],
      "execution_count": 17,
      "outputs": [
        {
          "output_type": "stream",
          "text": [
            "                      Name  Speed  Defense\n",
            "0                Bulbasaur     45       49\n",
            "1                  Ivysaur     60       63\n",
            "2                 Venusaur     80       83\n",
            "3    VenusaurMega Venusaur     80      123\n",
            "4               Charmander     65       43\n",
            "..                     ...    ...      ...\n",
            "795                Diancie     50      150\n",
            "796    DiancieMega Diancie    110      110\n",
            "797    HoopaHoopa Confined     70       60\n",
            "798     HoopaHoopa Unbound     80       60\n",
            "799              Volcanion     70      120\n",
            "\n",
            "[800 rows x 3 columns]\n"
          ],
          "name": "stdout"
        }
      ]
    },
    {
      "cell_type": "code",
      "metadata": {
        "colab": {
          "base_uri": "https://localhost:8080/"
        },
        "id": "ABp6vN-40skB",
        "outputId": "e9280687-ea8c-4553-d547-0cebfafc4510"
      },
      "source": [
        "#printing the rows. We will iloc() function; which stands for integer location\n",
        "print(df.iloc[1])"
      ],
      "execution_count": 19,
      "outputs": [
        {
          "output_type": "stream",
          "text": [
            "#                   2\n",
            "Name          Ivysaur\n",
            "Type 1          Grass\n",
            "Type 2         Poison\n",
            "HP                 60\n",
            "Attack             62\n",
            "Defense            63\n",
            "Sp. Atk            80\n",
            "Sp. Def            80\n",
            "Speed              60\n",
            "Generation          1\n",
            "Legendary       False\n",
            "Name: 1, dtype: object\n"
          ],
          "name": "stdout"
        }
      ]
    },
    {
      "cell_type": "code",
      "metadata": {
        "colab": {
          "base_uri": "https://localhost:8080/"
        },
        "id": "4jQchwY01zUg",
        "outputId": "d90c3e29-6cf1-4db1-bd79-8d496d19afea"
      },
      "source": [
        "print(df.iloc[1:7])"
      ],
      "execution_count": 21,
      "outputs": [
        {
          "output_type": "stream",
          "text": [
            "   #                   Name Type 1  ... Speed  Generation  Legendary\n",
            "1  2                Ivysaur  Grass  ...    60           1      False\n",
            "2  3               Venusaur  Grass  ...    80           1      False\n",
            "3  3  VenusaurMega Venusaur  Grass  ...    80           1      False\n",
            "4  4             Charmander   Fire  ...    65           1      False\n",
            "5  5             Charmeleon   Fire  ...    80           1      False\n",
            "6  6              Charizard   Fire  ...   100           1      False\n",
            "\n",
            "[6 rows x 12 columns]\n"
          ],
          "name": "stdout"
        }
      ]
    },
    {
      "cell_type": "code",
      "metadata": {
        "colab": {
          "base_uri": "https://localhost:8080/"
        },
        "id": "bR6uIldX2T2j",
        "outputId": "62859752-95b8-4c3e-f9b4-a176c735e964"
      },
      "source": [
        "#we can locate any element using iloc() function by passing the respective row and column number\n",
        "print(df.iloc[5,2])\n",
        "print(df.iloc[4,1])"
      ],
      "execution_count": 26,
      "outputs": [
        {
          "output_type": "stream",
          "text": [
            "Fire\n",
            "Charmander\n"
          ],
          "name": "stdout"
        }
      ]
    }
  ]
}